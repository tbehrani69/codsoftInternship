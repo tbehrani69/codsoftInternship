{
 "cells": [
  {
   "cell_type": "markdown",
   "id": "5f20a35c-5469-4993-82f1-619bf49bac50",
   "metadata": {},
   "source": [
    "Task 3\r",
    "Iris Flower Classificationn"
   ]
  },
  {
   "cell_type": "code",
   "execution_count": 1,
   "id": "5ba757d2-c0a0-45a1-be5f-ba73371cd56b",
   "metadata": {},
   "outputs": [],
   "source": [
    "import pandas as pd \n",
    "import numpy as np\n",
    "from sklearn.model_selection import train_test_split\n",
    "from sklearn.preprocessing import OneHotEncoder\n",
    "from sklearn.datasets import make_classification\n",
    "from sklearn.metrics import confusion_matrix\n",
    "from sklearn.metrics import accuracy_score\n",
    "from sklearn.metrics import f1_score\n",
    "from sklearn.metrics import classification_report \n",
    "from sklearn import svm\n",
    "import warnings"
   ]
  },
  {
   "cell_type": "code",
   "execution_count": 2,
   "id": "ac46e2e8-73ea-49de-8bf9-5aef91bfa295",
   "metadata": {},
   "outputs": [],
   "source": [
    "df=pd.read_csv(r\"T:\\codsoft\\Codsoft_task-3-main\\IRIS.csv\")"
   ]
  },
  {
   "cell_type": "code",
   "execution_count": 3,
   "id": "eb0e4d2a-169f-47a2-8c20-56dbc932a337",
   "metadata": {},
   "outputs": [
    {
     "data": {
      "text/html": [
       "<div>\n",
       "<style scoped>\n",
       "    .dataframe tbody tr th:only-of-type {\n",
       "        vertical-align: middle;\n",
       "    }\n",
       "\n",
       "    .dataframe tbody tr th {\n",
       "        vertical-align: top;\n",
       "    }\n",
       "\n",
       "    .dataframe thead th {\n",
       "        text-align: right;\n",
       "    }\n",
       "</style>\n",
       "<table border=\"1\" class=\"dataframe\">\n",
       "  <thead>\n",
       "    <tr style=\"text-align: right;\">\n",
       "      <th></th>\n",
       "      <th>sepal_length</th>\n",
       "      <th>sepal_width</th>\n",
       "      <th>petal_length</th>\n",
       "      <th>petal_width</th>\n",
       "      <th>species</th>\n",
       "    </tr>\n",
       "  </thead>\n",
       "  <tbody>\n",
       "    <tr>\n",
       "      <th>0</th>\n",
       "      <td>5.1</td>\n",
       "      <td>3.5</td>\n",
       "      <td>1.4</td>\n",
       "      <td>0.2</td>\n",
       "      <td>Iris-setosa</td>\n",
       "    </tr>\n",
       "    <tr>\n",
       "      <th>1</th>\n",
       "      <td>4.9</td>\n",
       "      <td>3.0</td>\n",
       "      <td>1.4</td>\n",
       "      <td>0.2</td>\n",
       "      <td>Iris-setosa</td>\n",
       "    </tr>\n",
       "    <tr>\n",
       "      <th>2</th>\n",
       "      <td>4.7</td>\n",
       "      <td>3.2</td>\n",
       "      <td>1.3</td>\n",
       "      <td>0.2</td>\n",
       "      <td>Iris-setosa</td>\n",
       "    </tr>\n",
       "    <tr>\n",
       "      <th>3</th>\n",
       "      <td>4.6</td>\n",
       "      <td>3.1</td>\n",
       "      <td>1.5</td>\n",
       "      <td>0.2</td>\n",
       "      <td>Iris-setosa</td>\n",
       "    </tr>\n",
       "    <tr>\n",
       "      <th>4</th>\n",
       "      <td>5.0</td>\n",
       "      <td>3.6</td>\n",
       "      <td>1.4</td>\n",
       "      <td>0.2</td>\n",
       "      <td>Iris-setosa</td>\n",
       "    </tr>\n",
       "    <tr>\n",
       "      <th>...</th>\n",
       "      <td>...</td>\n",
       "      <td>...</td>\n",
       "      <td>...</td>\n",
       "      <td>...</td>\n",
       "      <td>...</td>\n",
       "    </tr>\n",
       "    <tr>\n",
       "      <th>145</th>\n",
       "      <td>6.7</td>\n",
       "      <td>3.0</td>\n",
       "      <td>5.2</td>\n",
       "      <td>2.3</td>\n",
       "      <td>Iris-virginica</td>\n",
       "    </tr>\n",
       "    <tr>\n",
       "      <th>146</th>\n",
       "      <td>6.3</td>\n",
       "      <td>2.5</td>\n",
       "      <td>5.0</td>\n",
       "      <td>1.9</td>\n",
       "      <td>Iris-virginica</td>\n",
       "    </tr>\n",
       "    <tr>\n",
       "      <th>147</th>\n",
       "      <td>6.5</td>\n",
       "      <td>3.0</td>\n",
       "      <td>5.2</td>\n",
       "      <td>2.0</td>\n",
       "      <td>Iris-virginica</td>\n",
       "    </tr>\n",
       "    <tr>\n",
       "      <th>148</th>\n",
       "      <td>6.2</td>\n",
       "      <td>3.4</td>\n",
       "      <td>5.4</td>\n",
       "      <td>2.3</td>\n",
       "      <td>Iris-virginica</td>\n",
       "    </tr>\n",
       "    <tr>\n",
       "      <th>149</th>\n",
       "      <td>5.9</td>\n",
       "      <td>3.0</td>\n",
       "      <td>5.1</td>\n",
       "      <td>1.8</td>\n",
       "      <td>Iris-virginica</td>\n",
       "    </tr>\n",
       "  </tbody>\n",
       "</table>\n",
       "<p>150 rows × 5 columns</p>\n",
       "</div>"
      ],
      "text/plain": [
       "     sepal_length  sepal_width  petal_length  petal_width         species\n",
       "0             5.1          3.5           1.4          0.2     Iris-setosa\n",
       "1             4.9          3.0           1.4          0.2     Iris-setosa\n",
       "2             4.7          3.2           1.3          0.2     Iris-setosa\n",
       "3             4.6          3.1           1.5          0.2     Iris-setosa\n",
       "4             5.0          3.6           1.4          0.2     Iris-setosa\n",
       "..            ...          ...           ...          ...             ...\n",
       "145           6.7          3.0           5.2          2.3  Iris-virginica\n",
       "146           6.3          2.5           5.0          1.9  Iris-virginica\n",
       "147           6.5          3.0           5.2          2.0  Iris-virginica\n",
       "148           6.2          3.4           5.4          2.3  Iris-virginica\n",
       "149           5.9          3.0           5.1          1.8  Iris-virginica\n",
       "\n",
       "[150 rows x 5 columns]"
      ]
     },
     "execution_count": 3,
     "metadata": {},
     "output_type": "execute_result"
    }
   ],
   "source": [
    "df"
   ]
  },
  {
   "cell_type": "code",
   "execution_count": 4,
   "id": "3eaa7143-b732-4389-895b-1aebaaa6c555",
   "metadata": {},
   "outputs": [
    {
     "data": {
      "text/plain": [
       "sepal_length    0\n",
       "sepal_width     0\n",
       "petal_length    0\n",
       "petal_width     0\n",
       "species         0\n",
       "dtype: int64"
      ]
     },
     "execution_count": 4,
     "metadata": {},
     "output_type": "execute_result"
    }
   ],
   "source": [
    "df.isna().sum()  ## checking if there are any NaN values in any column "
   ]
  },
  {
   "cell_type": "code",
   "execution_count": 5,
   "id": "ec4b05e4-93c5-495e-9f3e-df2eea38e55f",
   "metadata": {},
   "outputs": [
    {
     "data": {
      "text/plain": [
       "array(['Iris-setosa', 'Iris-versicolor', 'Iris-virginica'], dtype=object)"
      ]
     },
     "execution_count": 5,
     "metadata": {},
     "output_type": "execute_result"
    }
   ],
   "source": [
    "df['species'].unique()"
   ]
  },
  {
   "cell_type": "code",
   "execution_count": 6,
   "id": "67852e90-b8ad-4527-a01e-99a0d84155d6",
   "metadata": {},
   "outputs": [
    {
     "name": "stdout",
     "output_type": "stream",
     "text": [
      "0      0\n",
      "1      0\n",
      "2      0\n",
      "3      0\n",
      "4      0\n",
      "      ..\n",
      "145    2\n",
      "146    2\n",
      "147    2\n",
      "148    2\n",
      "149    2\n",
      "Name: species, Length: 150, dtype: int64\n"
     ]
    }
   ],
   "source": [
    "flower={'Iris-setosa':0,'Iris-versicolor':1, 'Iris-virginica':2}\n",
    "df[\"species\"]=df[\"species\"].map(flower)\n",
    "y = df[\"species\"]\n",
    "print(y)"
   ]
  },
  {
   "cell_type": "code",
   "execution_count": 7,
   "id": "591fea13-f1e1-4f87-90e5-740c5adc92c2",
   "metadata": {},
   "outputs": [
    {
     "name": "stdout",
     "output_type": "stream",
     "text": [
      "Shape of X =  (150, 4)\n",
      "Shape of y =  (150,)\n"
     ]
    }
   ],
   "source": [
    "X = df.drop(\"species\", axis = 1)\n",
    "y = df[\"species\"]\n",
    "print('Shape of X = ', X.shape)\n",
    "print('Shape of y = ', y.shape)"
   ]
  },
  {
   "cell_type": "code",
   "execution_count": 8,
   "id": "ce57b144-b776-4b63-aee0-febd495f9c4e",
   "metadata": {},
   "outputs": [
    {
     "name": "stdout",
     "output_type": "stream",
     "text": [
      "Shape of X_train =  (120, 4)\n",
      "Shape of y_train =  (120,)\n",
      "Shape of X_test =  (30, 4)\n",
      "Shape of y_test =  (30,)\n"
     ]
    }
   ],
   "source": [
    "X_train, X_test, y_train, y_test =train_test_split(X, y, test_size=0.2, random_state=51)\n",
    "print('Shape of X_train = ', X_train.shape)\n",
    "print('Shape of y_train = ', y_train.shape)\n",
    "print('Shape of X_test = ', X_test.shape)\n",
    "print('Shape of y_test = ', y_test.shape)"
   ]
  },
  {
   "cell_type": "markdown",
   "id": "d8fc8213-6b34-4b77-bf12-e0bd9d4ec92d",
   "metadata": {},
   "source": [
    "Using Support Vector Machine Machine Learning Model"
   ]
  },
  {
   "cell_type": "code",
   "execution_count": 9,
   "id": "b346007e-b262-4ee0-92ea-10bb8b69db79",
   "metadata": {},
   "outputs": [
    {
     "name": "stdout",
     "output_type": "stream",
     "text": [
      "Report : \n",
      "               precision    recall  f1-score   support\n",
      "\n",
      "           0       1.00      1.00      1.00         9\n",
      "           1       0.86      1.00      0.92         6\n",
      "           2       1.00      0.93      0.97        15\n",
      "\n",
      "    accuracy                           0.97        30\n",
      "   macro avg       0.95      0.98      0.96        30\n",
      "weighted avg       0.97      0.97      0.97        30\n",
      "\n",
      "F1 Score:  96.28647214854111\n",
      "Accuracy :  96.66666666666667\n"
     ]
    }
   ],
   "source": [
    "clf1 = svm.SVC( C=3.0 , degree=3, gamma='scale', probability = True )\n",
    "clf1.fit(X_train,y_train)\n",
    "\n",
    "y_pred=clf1.predict(X_test)\n",
    "#clf.score(X_test , y_test)\n",
    "\n",
    "score4 = f1_score(y_test, y_pred,average='macro')*100\n",
    "print(\"Report : \\n\", classification_report(y_test, y_pred))\n",
    "\n",
    "print(\"F1 Score: \", score4)\n",
    "print (\"Accuracy : \" , accuracy_score(y_test,y_pred)*100) "
   ]
  },
  {
   "cell_type": "markdown",
   "id": "77c208d8-7ac9-4eac-9b29-4bd29c372b68",
   "metadata": {},
   "source": [
    "Checking if the code is predicting correctly or not"
   ]
  },
  {
   "cell_type": "code",
   "execution_count": 10,
   "id": "5c1a59c4-f5f0-45e2-b919-d011c4e69ff1",
   "metadata": {},
   "outputs": [
    {
     "name": "stdout",
     "output_type": "stream",
     "text": [
      "Kindly input measurments upto one decimal points.\n",
      "\n"
     ]
    },
    {
     "name": "stdin",
     "output_type": "stream",
     "text": [
      "Enter sepal_length:  5.0\n",
      "Enter sepal_width:  3.6\n",
      "Enter petal_length:  1.4\n",
      "Enter petal_width:  0.2\n"
     ]
    },
    {
     "name": "stdout",
     "output_type": "stream",
     "text": [
      "\n",
      "\n",
      "The Flower according to the measurements is Iris-setosa\n"
     ]
    }
   ],
   "source": [
    "#ignoring the warning \n",
    "warnings.filterwarnings(\"ignore\", category=UserWarning)\n",
    "print(\"Kindly input measurments upto one decimal points.\\n\")\n",
    "inputs = {}\n",
    "name_id = None\n",
    "flower_measurments = [\"sepal_length\", \"sepal_width\", \"petal_length\",\"petal_width\"]\n",
    "for i in flower_measurments:\n",
    "    input_user = input(f\"Enter {i}: \")\n",
    "    \n",
    "    inputs[i] = input_user\n",
    "user_in_array = np.array(list(inputs.values()))\n",
    "user_in_array = user_in_array.reshape(1, -1)  \n",
    "prediction = clf1.predict(user_in_array)\n",
    "print(\"\\n\")\n",
    "if (prediction == 0):\n",
    "    print(\"The Flower according to the measurements is Iris-setosa\")\n",
    "elif(prediction == 1):\n",
    "    print(\"The Flower according to the measurements is Iris-versicolor\")\n",
    "elif(prediction == 2):\n",
    "    print(\"The Flower according to the measurements is Iris-virginica\")"
   ]
  },
  {
   "cell_type": "code",
   "execution_count": null,
   "id": "55ce40f9-ca96-45b9-98e4-976d7a8bd40a",
   "metadata": {},
   "outputs": [],
   "source": []
  }
 ],
 "metadata": {
  "kernelspec": {
   "display_name": "Python 3 (ipykernel)",
   "language": "python",
   "name": "python3"
  },
  "language_info": {
   "codemirror_mode": {
    "name": "ipython",
    "version": 3
   },
   "file_extension": ".py",
   "mimetype": "text/x-python",
   "name": "python",
   "nbconvert_exporter": "python",
   "pygments_lexer": "ipython3",
   "version": "3.11.6"
  }
 },
 "nbformat": 4,
 "nbformat_minor": 5
}
